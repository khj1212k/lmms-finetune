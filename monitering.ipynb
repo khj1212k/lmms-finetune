{
 "cells": [
  {
   "cell_type": "code",
   "execution_count": 1,
   "id": "992ff467-a72e-4d64-b24d-9e60f078705e",
   "metadata": {},
   "outputs": [
    {
     "name": "stdout",
     "output_type": "stream",
     "text": [
      "Requirement already satisfied: psutil in /venv/main/lib/python3.10/site-packages (7.0.0)\n",
      "Collecting GPUtil\n",
      "  Downloading GPUtil-1.4.0.tar.gz (5.5 kB)\n",
      "doneing metadata (setup.py) ... \u001b[?25l\n",
      "Collecting rich\n",
      "  Using cached rich-14.0.0-py3-none-any.whl.metadata (18 kB)\n",
      "Collecting markdown-it-py>=2.2.0 (from rich)\n",
      "  Using cached markdown_it_py-3.0.0-py3-none-any.whl.metadata (6.9 kB)\n",
      "Requirement already satisfied: pygments<3.0.0,>=2.13.0 in /venv/main/lib/python3.10/site-packages (from rich) (2.19.1)\n",
      "Requirement already satisfied: typing-extensions<5.0,>=4.0.0 in /venv/main/lib/python3.10/site-packages (from rich) (4.12.2)\n",
      "Collecting mdurl~=0.1 (from markdown-it-py>=2.2.0->rich)\n",
      "  Using cached mdurl-0.1.2-py3-none-any.whl.metadata (1.6 kB)\n",
      "Downloading rich-14.0.0-py3-none-any.whl (243 kB)\n",
      "Downloading markdown_it_py-3.0.0-py3-none-any.whl (87 kB)\n",
      "Downloading mdurl-0.1.2-py3-none-any.whl (10.0 kB)\n",
      "Building wheels for collected packages: GPUtil\n",
      "doneng wheel for GPUtil (setup.py) ... \u001b[?25l\n",
      "\u001b[?25h  Created wheel for GPUtil: filename=GPUtil-1.4.0-py3-none-any.whl size=7410 sha256=1f33eb4bd56ca9549daf3213d7eb3911a99bed7b9cd3e68ec50cb6db2077d953\n",
      "  Stored in directory: /root/.cache/pip/wheels/a9/8a/bd/81082387151853ab8b6b3ef33426e98f5cbfebc3c397a9d4d0\n",
      "Successfully built GPUtil\n",
      "Installing collected packages: GPUtil, mdurl, markdown-it-py, rich\n",
      "Successfully installed GPUtil-1.4.0 markdown-it-py-3.0.0 mdurl-0.1.2 rich-14.0.0\n",
      "Note: you may need to restart the kernel to use updated packages.\n"
     ]
    }
   ],
   "source": [
    "pip install psutil GPUtil rich"
   ]
  },
  {
   "cell_type": "code",
   "execution_count": null,
   "id": "9caca92b-fd0f-44e1-b0ab-4d95294643c0",
   "metadata": {},
   "outputs": [
    {
     "data": {
      "application/vnd.jupyter.widget-view+json": {
       "model_id": "c3c7dc3c3faf433dbc765ad253a1f24b",
       "version_major": 2,
       "version_minor": 0
      },
      "text/plain": [
       "Output()"
      ]
     },
     "metadata": {},
     "output_type": "display_data"
    }
   ],
   "source": [
    "import time\n",
    "import psutil\n",
    "import GPUtil\n",
    "from rich.live import Live\n",
    "from rich.panel import Panel\n",
    "from rich.table import Table\n",
    "from rich.progress import Progress, BarColumn, TextColumn\n",
    "\n",
    "def format_size(bytes_value):\n",
    "    return f\"{bytes_value / 1024 ** 3:.1f} GB\"\n",
    "\n",
    "def make_bar(label: str, percent: float, usage_str: str, color: str = \"green\") -> Panel:\n",
    "    progress = Progress(\n",
    "        TextColumn(f\"[bold]{label:<12}\"),\n",
    "        BarColumn(bar_width=40, complete_style=color),\n",
    "        TextColumn(\"{task.percentage:>5.1f}%\"),\n",
    "        TextColumn(f\"[white]{usage_str}\"),\n",
    "        expand=True,\n",
    "    )\n",
    "    task_id = progress.add_task(label, total=100)\n",
    "    progress.update(task_id, completed=percent)\n",
    "    return Panel(progress)\n",
    "\n",
    "def get_color(percent):\n",
    "    if percent > 90:\n",
    "        return \"red\"\n",
    "    elif percent > 70:\n",
    "        return \"yellow\"\n",
    "    else:\n",
    "        return \"green\"\n",
    "\n",
    "def get_stats():\n",
    "    stats = []\n",
    "\n",
    "    # CPU\n",
    "    cpu_percent = psutil.cpu_percent()\n",
    "    cpu_freq = psutil.cpu_freq().current\n",
    "    stats.append((\"CPU\", cpu_percent, f\"{cpu_freq:.0f} MHz\", get_color(cpu_percent)))\n",
    "\n",
    "    # RAM\n",
    "    ram = psutil.virtual_memory()\n",
    "    ram_percent = ram.percent\n",
    "    ram_used = format_size(ram.used)\n",
    "    ram_total = format_size(ram.total)\n",
    "    stats.append((\"RAM\", ram_percent, f\"{ram_used} / {ram_total}\", get_color(ram_percent)))\n",
    "\n",
    "    # Disk\n",
    "    disk = psutil.disk_usage(\"/\")\n",
    "    disk_percent = disk.percent\n",
    "    disk_used = format_size(disk.used)\n",
    "    disk_total = format_size(disk.total)\n",
    "    stats.append((\"Disk\", disk_percent, f\"{disk_used} / {disk_total}\", get_color(disk_percent)))\n",
    "\n",
    "    # GPUs\n",
    "    gpus = GPUtil.getGPUs()\n",
    "    for gpu in gpus:\n",
    "        gpu_load = gpu.load * 100\n",
    "        gpu_mem = gpu.memoryUsed / gpu.memoryTotal * 100\n",
    "        mem_str = f\"{gpu.memoryUsed:.1f} MB / {gpu.memoryTotal:.1f} MB\"\n",
    "\n",
    "        stats.append((f\"GPU{gpu.id} Load\", gpu_load, \"\", get_color(gpu_load)))\n",
    "        stats.append((f\"GPU{gpu.id} Mem\", gpu_mem, mem_str, get_color(gpu_mem)))\n",
    "\n",
    "    return stats\n",
    "\n",
    "with Live(refresh_per_second=1) as live:\n",
    "    while True:\n",
    "        stat_entries = get_stats()\n",
    "        layout = Table.grid(padding=1)\n",
    "\n",
    "        for name, percent, usage_str, color in stat_entries:\n",
    "            layout.add_row(make_bar(name, percent, usage_str, color))\n",
    "\n",
    "        live.update(Panel(layout, title=\"🖥️ System Resource Monitor (All GPUs)\", border_style=\"bright_blue\"))\n",
    "        time.sleep(1)"
   ]
  },
  {
   "cell_type": "code",
   "execution_count": null,
   "id": "42072666-69fd-4f48-93ad-1aec80434b1b",
   "metadata": {},
   "outputs": [],
   "source": [
    "OMP_NUM_THREADS=1 torchrun --standalone --nnodes=1 --nproc_per_node=8  GLM-4/finetune/finetune_vision.py  rstpreid_conv/  THUDM/glm-4v-9b  GLM-4/finetune/configs/lora.yaml \n"
   ]
  }
 ],
 "metadata": {
  "kernelspec": {
   "display_name": "Python3 (ipykernel)",
   "language": "python",
   "name": "python3"
  },
  "language_info": {
   "codemirror_mode": {
    "name": "ipython",
    "version": 3
   },
   "file_extension": ".py",
   "mimetype": "text/x-python",
   "name": "python",
   "nbconvert_exporter": "python",
   "pygments_lexer": "ipython3",
   "version": "3.10.12"
  }
 },
 "nbformat": 4,
 "nbformat_minor": 5
}
